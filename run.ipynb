{
 "cells": [
  {
   "cell_type": "markdown",
   "metadata": {},
   "source": [
    "# Tutorial RAG Azure\n",
    "### 1. Criar um projeto no Azure AI Foundry - https://ai.azure.com/\n",
    "\n",
    "\n",
    "\n",
    "### 2. Fazer deploy de modelos de embedding e completion (se já não estiverem disponíveis)\n",
    "\n",
    "\n",
    "\n",
    "### 3. Criar um AI Search Service - https://portal.azure.com/#create/Microsoft.Search\n",
    " \n",
    "\n",
    "\n",
    "\n",
    "#### 3.1 Criar um indíce e popular com documentos - create_search_index.py\n",
    "\n",
    "\n",
    "\n",
    "### 4. Conectar o projeto Azure AI com AI Search - apenas pelo portal (ver o tutorial do git)\n",
    "\n",
    "\n",
    "\n",
    "\n",
    "\n",
    "### Links uteis\n",
    "\n",
    "\n",
    "\n",
    "https://github.com/MicrosoftDocs/azure-ai-docs/blob/main/articles/ai-studio/tutorials/copilot-sdk-create-resources.md\n",
    "\n",
    "\n",
    "\n"
   ]
  },
  {
   "cell_type": "code",
   "execution_count": 5,
   "metadata": {},
   "outputs": [
    {
     "name": "stdout",
     "output_type": "stream",
     "text": [
      "Starting index creation process...\n",
      "Deleted existing index 'faq-index'\n"
     ]
    },
    {
     "name": "stderr",
     "output_type": "stream",
     "text": [
      "Traceback (most recent call last):\n",
      "  File \"C:\\Users\\giova\\AppData\\Local\\Packages\\PythonSoftwareFoundation.Python.3.13_qbz5n2kfra8p0\\LocalCache\\local-packages\\Python313\\site-packages\\azure\\search\\documents\\_search_client.py\", line 655, in _index_documents_actions\n",
      "    batch_response = self._client.documents.index(batch=batch, error_map=error_map, **kwargs)\n",
      "  File \"C:\\Users\\giova\\AppData\\Local\\Packages\\PythonSoftwareFoundation.Python.3.13_qbz5n2kfra8p0\\LocalCache\\local-packages\\Python313\\site-packages\\azure\\core\\tracing\\decorator.py\", line 105, in wrapper_use_tracer\n",
      "    return func(*args, **kwargs)\n",
      "  File \"C:\\Users\\giova\\AppData\\Local\\Packages\\PythonSoftwareFoundation.Python.3.13_qbz5n2kfra8p0\\LocalCache\\local-packages\\Python313\\site-packages\\azure\\search\\documents\\_generated\\operations\\_documents_operations.py\", line 1200, in index\n",
      "    map_error(status_code=response.status_code, response=response, error_map=error_map)\n",
      "    ~~~~~~~~~^^^^^^^^^^^^^^^^^^^^^^^^^^^^^^^^^^^^^^^^^^^^^^^^^^^^^^^^^^^^^^^^^^^^^^^^^^\n",
      "  File \"C:\\Users\\giova\\AppData\\Local\\Packages\\PythonSoftwareFoundation.Python.3.13_qbz5n2kfra8p0\\LocalCache\\local-packages\\Python313\\site-packages\\azure\\core\\exceptions.py\", line 163, in map_error\n",
      "    raise error\n",
      "azure.search.documents._search_documents_error.RequestEntityTooLargeError: Operation returned an invalid status 'Request Entity Too Large'\n",
      "Content: The page was not displayed because the request entity is too large.\n",
      "\n",
      "During handling of the above exception, another exception occurred:\n",
      "\n",
      "Traceback (most recent call last):\n",
      "  File \"f:\\woopi\\ragazure\\create_search_index2.py\", line 248, in <module>\n",
      "    create_index_from_file(\n",
      "    ~~~~~~~~~~~~~~~~~~~~~~^\n",
      "        index_name=args.index_name,\n",
      "        ^^^^^^^^^^^^^^^^^^^^^^^^^^^\n",
      "    ...<3 lines>...\n",
      "        vector_field=args.vector_field,\n",
      "        ^^^^^^^^^^^^^^^^^^^^^^^^^^^^^^^\n",
      "    )\n",
      "    ^\n",
      "  File \"f:\\woopi\\ragazure\\create_search_index2.py\", line 213, in create_index_from_file\n",
      "    search_client.upload_documents(docs)\n",
      "    ~~~~~~~~~~~~~~~~~~~~~~~~~~~~~~^^^^^^\n",
      "  File \"C:\\Users\\giova\\AppData\\Local\\Packages\\PythonSoftwareFoundation.Python.3.13_qbz5n2kfra8p0\\LocalCache\\local-packages\\Python313\\site-packages\\azure\\search\\documents\\_search_client.py\", line 548, in upload_documents\n",
      "    results = self.index_documents(batch, **kwargs)\n",
      "  File \"C:\\Users\\giova\\AppData\\Local\\Packages\\PythonSoftwareFoundation.Python.3.13_qbz5n2kfra8p0\\LocalCache\\local-packages\\Python313\\site-packages\\azure\\core\\tracing\\decorator.py\", line 105, in wrapper_use_tracer\n",
      "    return func(*args, **kwargs)\n",
      "  File \"C:\\Users\\giova\\AppData\\Local\\Packages\\PythonSoftwareFoundation.Python.3.13_qbz5n2kfra8p0\\LocalCache\\local-packages\\Python313\\site-packages\\azure\\search\\documents\\_search_client.py\", line 647, in index_documents\n",
      "    return self._index_documents_actions(actions=batch.actions, **kwargs)\n",
      "           ~~~~~~~~~~~~~~~~~~~~~~~~~~~~~^^^^^^^^^^^^^^^^^^^^^^^^^^^^^^^^^\n",
      "  File \"C:\\Users\\giova\\AppData\\Local\\Packages\\PythonSoftwareFoundation.Python.3.13_qbz5n2kfra8p0\\LocalCache\\local-packages\\Python313\\site-packages\\azure\\search\\documents\\_search_client.py\", line 661, in _index_documents_actions\n",
      "    batch_response_first_half = self._index_documents_actions(\n",
      "        actions=actions[:pos], error_map=error_map, **kwargs\n",
      "    )\n",
      "  File \"C:\\Users\\giova\\AppData\\Local\\Packages\\PythonSoftwareFoundation.Python.3.13_qbz5n2kfra8p0\\LocalCache\\local-packages\\Python313\\site-packages\\azure\\search\\documents\\_search_client.py\", line 655, in _index_documents_actions\n",
      "    batch_response = self._client.documents.index(batch=batch, error_map=error_map, **kwargs)\n",
      "TypeError: azure.search.documents._generated.operations._documents_operations.DocumentsOperations.index() got multiple values for keyword argument 'error_map'\n"
     ]
    }
   ],
   "source": [
    "!python create_search_index2.py --index-name faq-index \\\n",
    "    --file-path assets/df_bacen.csv \\\n",
    "    --content-column answers \\\n",
    "    --fields questions,answers,categories \\\n",
    "    --vector-field questionVector\n"
   ]
  },
  {
   "cell_type": "code",
   "execution_count": 7,
   "metadata": {},
   "outputs": [
    {
     "name": "stdout",
     "output_type": "stream",
     "text": [
      "Starting index creation process...\n",
      "Deleted existing index 'faq-index'\n",
      "Uploaded batch 1: 100 documents successfully.\n",
      "Uploaded batch 2: 100 documents successfully.\n",
      "Uploaded batch 3: 100 documents successfully.\n",
      "Uploaded batch 4: 100 documents successfully.\n",
      "Uploaded batch 5: 100 documents successfully.\n",
      "Uploaded batch 6: 100 documents successfully.\n",
      "Uploaded batch 7: 100 documents successfully.\n",
      "Uploaded batch 8: 100 documents successfully.\n",
      "Uploaded batch 9: 100 documents successfully.\n",
      "Uploaded batch 10: 100 documents successfully.\n",
      "Uploaded batch 11: 100 documents successfully.\n",
      "Uploaded batch 12: 100 documents successfully.\n",
      "Uploaded batch 13: 100 documents successfully.\n",
      "Uploaded batch 14: 5 documents successfully.\n",
      "Index creation process completed successfully!\n"
     ]
    }
   ],
   "source": [
    "!python create_search_index_batch.py --index-name faq-index \\\n",
    "    --file-path assets/df_bacen.csv \\\n",
    "    --content-column answers \\\n",
    "    --fields questions,answers,categories \\\n",
    "    --vector-field contentVector\n"
   ]
  },
  {
   "cell_type": "markdown",
   "metadata": {},
   "source": []
  },
  {
   "cell_type": "code",
   "execution_count": 3,
   "metadata": {},
   "outputs": [
    {
     "ename": "TypeError",
     "evalue": "'tenant_id' is not supported in DefaultAzureCredential.",
     "output_type": "error",
     "traceback": [
      "\u001b[1;31m---------------------------------------------------------------------------\u001b[0m",
      "\u001b[1;31mTypeError\u001b[0m                                 Traceback (most recent call last)",
      "Cell \u001b[1;32mIn[3], line 5\u001b[0m\n\u001b[0;32m      2\u001b[0m \u001b[38;5;28;01mfrom\u001b[39;00m \u001b[38;5;21;01mazure\u001b[39;00m\u001b[38;5;21;01m.\u001b[39;00m\u001b[38;5;21;01mai\u001b[39;00m\u001b[38;5;21;01m.\u001b[39;00m\u001b[38;5;21;01mprojects\u001b[39;00m \u001b[38;5;28;01mimport\u001b[39;00m AIProjectClient\n\u001b[0;32m      4\u001b[0m \u001b[38;5;66;03m# Explicitly specify the tenant ID\u001b[39;00m\n\u001b[1;32m----> 5\u001b[0m credential \u001b[38;5;241m=\u001b[39m \u001b[43mDefaultAzureCredential\u001b[49m\u001b[43m(\u001b[49m\n\u001b[0;32m      6\u001b[0m \u001b[43m    \u001b[49m\u001b[43mtenant_id\u001b[49m\u001b[38;5;241;43m=\u001b[39;49m\u001b[38;5;124;43m\"\u001b[39;49m\u001b[38;5;124;43mbb796b6d-2bb3-413f-915e-28bfa72da873\u001b[39;49m\u001b[38;5;124;43m\"\u001b[39;49m\n\u001b[0;32m      7\u001b[0m \u001b[43m)\u001b[49m\n\u001b[0;32m      9\u001b[0m \u001b[38;5;66;03m# Use the credential in your project client\u001b[39;00m\n\u001b[0;32m     10\u001b[0m project \u001b[38;5;241m=\u001b[39m AIProjectClient\u001b[38;5;241m.\u001b[39mfrom_connection_string(\n\u001b[0;32m     11\u001b[0m     conn_str\u001b[38;5;241m=\u001b[39mos\u001b[38;5;241m.\u001b[39menviron[\u001b[38;5;124m\"\u001b[39m\u001b[38;5;124mAIPROJECT_CONNECTION_STRING\u001b[39m\u001b[38;5;124m\"\u001b[39m],\n\u001b[0;32m     12\u001b[0m     credential\u001b[38;5;241m=\u001b[39mcredential\n\u001b[0;32m     13\u001b[0m )\n",
      "File \u001b[1;32m~\\AppData\\Local\\Packages\\PythonSoftwareFoundation.Python.3.13_qbz5n2kfra8p0\\LocalCache\\local-packages\\Python313\\site-packages\\azure\\identity\\_credentials\\default.py:100\u001b[0m, in \u001b[0;36mDefaultAzureCredential.__init__\u001b[1;34m(self, **kwargs)\u001b[0m\n\u001b[0;32m     <a href='file:///c%3A/Users/giova/AppData/Local/Packages/PythonSoftwareFoundation.Python.3.13_qbz5n2kfra8p0/LocalCache/local-packages/Python313/site-packages/azure/identity/_credentials/default.py?line=97'>98</a>\u001b[0m \u001b[39mdef\u001b[39;00m \u001b[39m__init__\u001b[39m(\u001b[39mself\u001b[39m, \u001b[39m*\u001b[39m\u001b[39m*\u001b[39mkwargs: Any) \u001b[39m-\u001b[39m\u001b[39m>\u001b[39m \u001b[39mNone\u001b[39;00m:  \u001b[39m# pylint: disable=too-many-statements, too-many-locals\u001b[39;00m\n\u001b[0;32m     <a href='file:///c%3A/Users/giova/AppData/Local/Packages/PythonSoftwareFoundation.Python.3.13_qbz5n2kfra8p0/LocalCache/local-packages/Python313/site-packages/azure/identity/_credentials/default.py?line=98'>99</a>\u001b[0m     \u001b[39mif\u001b[39;00m \u001b[39m\"\u001b[39m\u001b[39mtenant_id\u001b[39m\u001b[39m\"\u001b[39m \u001b[39min\u001b[39;00m kwargs:\n\u001b[1;32m--> <a href='file:///c%3A/Users/giova/AppData/Local/Packages/PythonSoftwareFoundation.Python.3.13_qbz5n2kfra8p0/LocalCache/local-packages/Python313/site-packages/azure/identity/_credentials/default.py?line=99'>100</a>\u001b[0m         \u001b[39mraise\u001b[39;00m \u001b[39mTypeError\u001b[39;00m(\u001b[39m\"\u001b[39m\u001b[39m'\u001b[39m\u001b[39mtenant_id\u001b[39m\u001b[39m'\u001b[39m\u001b[39m is not supported in DefaultAzureCredential.\u001b[39m\u001b[39m\"\u001b[39m)\n\u001b[0;32m    <a href='file:///c%3A/Users/giova/AppData/Local/Packages/PythonSoftwareFoundation.Python.3.13_qbz5n2kfra8p0/LocalCache/local-packages/Python313/site-packages/azure/identity/_credentials/default.py?line=101'>102</a>\u001b[0m     authority \u001b[39m=\u001b[39m kwargs\u001b[39m.\u001b[39mpop(\u001b[39m\"\u001b[39m\u001b[39mauthority\u001b[39m\u001b[39m\"\u001b[39m, \u001b[39mNone\u001b[39;00m)\n\u001b[0;32m    <a href='file:///c%3A/Users/giova/AppData/Local/Packages/PythonSoftwareFoundation.Python.3.13_qbz5n2kfra8p0/LocalCache/local-packages/Python313/site-packages/azure/identity/_credentials/default.py?line=103'>104</a>\u001b[0m     vscode_tenant_id \u001b[39m=\u001b[39m kwargs\u001b[39m.\u001b[39mpop(\n\u001b[0;32m    <a href='file:///c%3A/Users/giova/AppData/Local/Packages/PythonSoftwareFoundation.Python.3.13_qbz5n2kfra8p0/LocalCache/local-packages/Python313/site-packages/azure/identity/_credentials/default.py?line=104'>105</a>\u001b[0m         \u001b[39m\"\u001b[39m\u001b[39mvisual_studio_code_tenant_id\u001b[39m\u001b[39m\"\u001b[39m, os\u001b[39m.\u001b[39menviron\u001b[39m.\u001b[39mget(EnvironmentVariables\u001b[39m.\u001b[39mAZURE_TENANT_ID)\n\u001b[0;32m    <a href='file:///c%3A/Users/giova/AppData/Local/Packages/PythonSoftwareFoundation.Python.3.13_qbz5n2kfra8p0/LocalCache/local-packages/Python313/site-packages/azure/identity/_credentials/default.py?line=105'>106</a>\u001b[0m     )\n",
      "\u001b[1;31mTypeError\u001b[0m: 'tenant_id' is not supported in DefaultAzureCredential."
     ]
    }
   ],
   "source": [
    "from azure.identity import DefaultAzureCredential\n",
    "from azure.ai.projects import AIProjectClient\n",
    "\n",
    "# Explicitly specify the tenant ID\n",
    "credential = DefaultAzureCredential(\n",
    "    tenant_id=\"\"\n",
    ")\n",
    "\n",
    "# Use the credential in your project client\n",
    "project = AIProjectClient.from_connection_string(\n",
    "    conn_str=os.environ[\"AIPROJECT_CONNECTION_STRING\"],\n",
    "    credential=credential\n",
    ")\n"
   ]
  },
  {
   "cell_type": "code",
   "execution_count": 4,
   "metadata": {},
   "outputs": [
    {
     "name": "stdout",
     "output_type": "stream",
     "text": [
      "^C\n"
     ]
    }
   ],
   "source": [
    "!az login --tenant bb796b6d-2bb3-413f-915e-28bfa72da873\n"
   ]
  },
  {
   "cell_type": "code",
   "execution_count": 1,
   "metadata": {},
   "outputs": [],
   "source": [
    "### query_index.py: funcao generica para facilitar a pergunta\n",
    "!python query_index.py --index-name faq-index \\\n",
    "    --query \"Como faço uma reclamação sobre um banco?\" \\\n",
    "    --vector-field contentVector \\\n",
    "    --select-fields id,questions,answers,categories \\\n",
    "    --top 5\n",
    "\n"
   ]
  },
  {
   "cell_type": "code",
   "execution_count": 12,
   "metadata": {},
   "outputs": [
    {
     "name": "stdout",
     "output_type": "stream",
     "text": [
      "Fields in the index:\n",
      "- id (type: Edm.String)\n",
      "- questions (type: Edm.String)\n",
      "- answers (type: Edm.String)\n",
      "- categories (type: Edm.String)\n",
      "- contentVector (type: Collection(Edm.Single))\n"
     ]
    }
   ],
   "source": [
    "from azure.core.credentials import AzureKeyCredential\n",
    "from dotenv import load_dotenv\n",
    "\n",
    "\n",
    "# Load environment variables\n",
    "load_dotenv()\n",
    "\n",
    "# Initialize logging\n",
    "\n",
    "\n",
    "# Search connection\n",
    "endpoint = os.getenv(\"SEARCH_ENDPOINT\")\n",
    "key = os.getenv(\"SEARCH_ADMIN_KEY\")\n",
    "\n",
    "\n",
    "def list_index_fields(index_name: str):\n",
    "    from azure.search.documents.indexes import SearchIndexClient\n",
    "    index_client = SearchIndexClient(\n",
    "        endpoint=endpoint,\n",
    "        credential=AzureKeyCredential(key)\n",
    "    )\n",
    "    index = index_client.get_index(index_name)\n",
    "    print(\"Fields in the index:\")\n",
    "    for field in index.fields:\n",
    "        print(f\"- {field.name} (type: {field.type})\")\n",
    "list_index_fields('faq-index')\n"
   ]
  },
  {
   "cell_type": "code",
   "execution_count": 7,
   "metadata": {},
   "outputs": [
    {
     "name": "stdout",
     "output_type": "stream",
     "text": [
      "Starting index creation process...\n",
      "Deleted existing index 'stf-pdf-index'\n",
      "Uploaded 33 documents to 'stf-pdf-index' index\n",
      "Index creation process completed successfully!\n"
     ]
    }
   ],
   "source": [
    "!python create_search_index2.py \\\n",
    "    --index-name stf-pdf-index \\\n",
    "    --file-path assets/stfacordo.pdf \\\n",
    "    --content-column content \\\n",
    "    --fields content,page_number \\\n",
    "    --vector-field contentVector\n",
    "\n",
    "\n",
    "\n"
   ]
  },
  {
   "cell_type": "code",
   "execution_count": 10,
   "metadata": {},
   "outputs": [
    {
     "name": "stdout",
     "output_type": "stream",
     "text": [
      "Querying index 'stf-pdf-index' with query: 'Quem é o relator do processo?'\n",
      "Generating embedding for query: Quem é o relator do processo?\n",
      "Performing vector search...\n",
      "Result: {'content': 'Relatório\\n27/05/2024 PRIMEIRA TURMA\\nEMB.DECL. NO AG.REG. NOS SEGUNDOS EMB.DECL. NO RECURSO \\nEXTRAORDINÁRIO  COM AGRAVO 1.412.405 PARANÁ\\nRELATOR :MIN. FLÁVIO DINO\\nEMBTE.(S):CAIO MACHADO DO COUTO COSTA \\nADV.(A/S):TRACY JOSEPH REINALDET DOS SANTOS \\nEMBDO.(A/S):MINISTÉRIO PÚBLICO FEDERAL \\nPROC.(A/S)(ES):PROCURADOR-GERAL DA REPÚBLICA \\nRELATÓRIO  \\nO Senhor Ministro Flávio Dino (Relator):  Caio Machado do Couto  \\nCosta  opõe  embargos  de  declaração  em  face  de  acórdão  de  agravo  \\ninterno, por meio do qual mantida a decisão que negou seguimento ao  \\nrecurso extraordinário com agravo.\\nTranscrevo a ementa do acórdão embargado:\\n“DIREITO  PENAL E  PROCESSUAL PENAL.  ACORDO  \\nDE  NÃO  PERSECUÇÃO  PENAL  (ANPP).  ORIENTAÇÃO  \\nJURISPRUDENCIAL  FIXADA  NA  PRIMEIRA  TURMA  DO  \\nSUPREMO  TRIBUNAL  FEDERAL:  ‘NAS  AÇÕES  PENAIS  \\nINICIADAS  ANTES  DA ENTRADA EM  VIGOR DA LEI N°  \\n13.964/2019, É VIÁVEL O ACORDO DE NÃO PERSECUÇÃO  \\nPENAL,  DESDE  QUE  NÃO  EXISTA  SENTENÇA  \\nCONDENATÓRIA E O PEDIDO', 'page_number': 3}\n",
      "\n",
      "Retrieved 1 documents.\n"
     ]
    }
   ],
   "source": [
    "!python query_index.py --index-name stf-pdf-index \\\n",
    "    --query \"Quem é o relator do processo?\" \\\n",
    "    --vector-field contentVector \\\n",
    "    --select-fields content,page_number \\\n",
    "    --top 1"
   ]
  },
  {
   "cell_type": "code",
   "execution_count": null,
   "metadata": {},
   "outputs": [],
   "source": [
    "!python chat_with_products.py \\\n",
    "    --query \"Quem é o relator do processo?\" \\\n",
    "    --index-name stf-pdf-index \\\n",
    "    --vector-field contentVector \\\n",
    "    --select-fields id,content,page_number \\\n",
    "    --top 1\n",
    "\n"
   ]
  },
  {
   "cell_type": "code",
   "execution_count": 17,
   "metadata": {},
   "outputs": [
    {
     "name": "stdout",
     "output_type": "stream",
     "text": [
      "Fields in the index:\n",
      "- id (type: Edm.String)\n",
      "- content (type: Edm.String)\n",
      "- page_number (type: Edm.Int32)\n",
      "- contentVector (type: Collection(Edm.Single))\n"
     ]
    }
   ],
   "source": [
    "from azure.search.documents.indexes import SearchIndexClient\n",
    "from azure.core.credentials import AzureKeyCredential\n",
    "from azure.core.credentials import AzureKeyCredential\n",
    "from dotenv import load_dotenv\n",
    "import os\n",
    "\n",
    "# Configure suas credenciais e endpoint\n",
    "# Load environment variables\n",
    "load_dotenv()\n",
    "\n",
    "# Initialize logging\n",
    "\n",
    "\n",
    "# Search connection\n",
    "endpoint = os.getenv(\"SEARCH_ENDPOINT\")\n",
    "key = os.getenv(\"SEARCH_ADMIN_KEY\")\n",
    "\n",
    "index_client = SearchIndexClient(endpoint=endpoint, credential=AzureKeyCredential(key))\n",
    "\n",
    "# Obtenha a definição do índice\n",
    "index = index_client.get_index(\"stf-pdf-index\")\n",
    "print(\"Fields in the index:\")\n",
    "for field in index.fields:\n",
    "    print(f\"- {field.name} (type: {field.type})\")\n"
   ]
  },
  {
   "cell_type": "code",
   "execution_count": 31,
   "metadata": {},
   "outputs": [
    {
     "name": "stdout",
     "output_type": "stream",
     "text": [
      "Performing vector search...\n",
      "Retrieved 5 documents.\n",
      "Chat response: ChatCompletionMessage(content='O relator do processo é o Ministro Flávio Dino.', refusal=None, role='assistant', audio=None, function_call=None, tool_calls=None)\n",
      "{'message': ChatCompletionMessage(content='O relator do processo é o Ministro Flávio Dino.', refusal=None, role='assistant', audio=None, function_call=None, tool_calls=None), 'context': {'thoughts': [{'title': 'Generated search query', 'description': 'N/A'}], 'grounding_data': [[{'content': 'Relatório\\nARE 1412405 ED- SEGUNDOS-AGR-ED / PR \\nANÁLISE  DA  LEGISLAÇÃO  INFRACONSTITUCIONAL  \\nAPLICÁVEL E DO REEXAME DO CONJUNTO PROBATÓRIO  \\nDOS  AUTOS.  INADMISSIBILIDADE.  SÚMULA  279/STF.  \\nAGRAVO  NÃO  PROVIDO.  1.  No  julgamento  do  HC  \\n233.147/SP ,  a  Primeira  Turma  do  Supremo  Tribunal  Federal  \\nfixou  orientação  no  sentido  de  que,  até  a  conclusão,  pelo  \\nTribunal Pleno, da análise do HC 185.913/DF, ‘nas ações penais  \\niniciadas antes da entrada em vigor da Lei n° 13.964/2019, é  \\nviável o acordo de não persecução penal, desde que não exista  \\nsentença  condenatória,  e  o  pedido  tenha  sido  formulado  na  \\nprimeira oportunidade de manifestação nos  autos após a data  \\nde vigência do art. 28-A do CPP’. No presente caso, a sentença  \\ncondenatória  foi  proferida  em  23.5.2019,  antes,  portanto,  da  \\nvigência  e  eficácia  da  Lei  n°  13.964/2019,  a  inviabilizar  a  \\npossibilidade  de  análise  do  ANPP ,  na  linha  do  precedente  \\nreferido. 2. As maté', 'page_number': 4}, {'content': 'Ementa e Acórdão\\n27/05/2024 PRIMEIRA TURMA\\nEMB.DECL. NO AG.REG. NOS SEGUNDOS EMB.DECL. NO RECURSO \\nEXTRAORDINÁRIO  COM AGRAVO 1.412.405 PARANÁ\\nRELATOR :MIN. FLÁVIO DINO\\nEMBTE.(S):CAIO MACHADO DO COUTO COSTA \\nADV.(A/S):TRACY JOSEPH REINALDET DOS SANTOS \\nEMBDO.(A/S):MINISTÉRIO PÚBLICO FEDERAL \\nPROC.(A/S)(ES):PROCURADOR-GERAL DA REPÚBLICA \\nEMENTA\\nEMBARGOS  DE  DECLARAÇÃO  NO  AGRAVO  INTERNO  NO  \\nRECURSO  EXTRAORDINÁRIO  COM  AGRAVO .  DIREITO  PENAL  E  \\nPROCESSUAL  PENAL.  ACORDO  DE  NÃO  PERSECUÇÃO  PENAL  \\n(ANPP).  ORIENTAÇÃO  JURISPRUDENCIAL FIXADA NA PRIMEIRA  \\nTURMA DO SUPREMO TRIBUNAL FEDERAL: “NAS AÇÕES PENAIS  \\nINICIADAS ANTES DA ENTRADA EM VIGOR DA LEI N º 13.964/2019, É \\nVIÁVEL O ACORDO  DE NÃO PERSECUÇÃO  PENAL,  DESDE QUE  \\nNÃO  EXISTA SENTENÇA CONDENATÓRIA E  O  PEDIDO  TENHA  \\nSIDO  FORMULADO  NA  PRIMEIRA  OPORTUNIDADE  DE  \\nMANIFESTAÇÃO NOS AUTOS APÓS A DATA DE VIGÊNCIA DO ART.  \\n28-A DO CPP”. SENTENÇA CONDENATÓRIA PROFERIDA ANTES DA  \\nVIGÊNCIA E EFICÁCIA DA LEI N º 13', 'page_number': 1}, {'content': 'nado digitalmente conforme MP n° 2.200-2/2001 de 24/08/2001. O documento pode ser acessado pelo endereço\\nhttp://www.stf.jus.br/portal/autenticacao/autenticarDocumento.asp sob o código D263-7FE9-F1F3-3CC5 e senha A482-6512-CFDD-EDCA\\nInteiro Teor do Acórdão - Página 5 de 9', 'page_number': 5}, {'content': '  \\nexaminada a controvérsia. \\nConsignou-se,  ainda,  que  o  caso  dos  autos  não  admite  a \\npossibilidade de análise do Acordo de Não-Persecução Penal - ANPP . \\nObserve-se o seguinte trecho:\\n“De  outra  parte,  tal  como  já  consignado  da  decisão  \\nagravada, no julgamento do HC 233.147/SP , a Primeira Turma  \\ndo Supremo Tribunal Federal fixou orientação no sentido de  \\nque, até a conclusão, pelo Tribunal Pleno, da análise do HC  \\n185.913/DF,  ‘nas  ações  penais  iniciadas  antes  da  entrada  em  \\nvigor da Lei 13.964/2019, é viável o acordo de não persecução  \\npenal, desde que não exista sentença condenatória e o pedido  \\ntenha  sido  formulado  na  primeira  oportunidade  de  \\nmanifestação nos autos após a data de vigência do art. 28-A do  \\nCPP’. No presente caso, a sentença condenatória foi proferida  \\nem 23.5.2019, antes, portanto, da vigência e eficácia da Lei n°  \\n13.964/2019,  a  inviabilizar  a  possibilidade  de  análise  do  \\nSupremo Tribunal Federal\\nDocumento assinado ', 'page_number': 6}, {'content': 'Voto - MIN. FLÁVIO DINO\\nARE 1412405 ED- SEGUNDOS-AGR-ED / PR \\nANPP.”\\nPortanto, examinando o acórdão embargado, verifico que inexistem  \\nas omissões suscitadas nos aclaratórios sob exame. \\nCom efeito, os embargos de declaração não se prestam à rediscussão  \\ndo mérito assentado no julgado em decorrência de mero inconformismo  \\nda parte embargante com o desfecho da demanda. Nesse sentido:\\n \\n“Direito  constitucional  e  administrativo.  Embargos  de  \\ndeclaração em  recurso ordinário em  mandado de segurança.  \\nRevisão de concessão de anistia. Inovação recursal. Pretensão  \\ninfringente nos embargos. Ausência de omissão.  1. Embargos  \\nde declaração opostos contra acórdão em que a Primeira Turma  \\nnegou provimento a agravo interno em recurso ordinário em  \\nmandado de segurança, em vista de inovação recursal ao ser  \\ninterposto  o  recurso  ordinário. 2.  Não  há  erro, obscuridade,  \\ncontradição ou omissão no acórdão questionado, o que afasta a  \\npresença dos pressupostos de embargabilidade', 'page_number': 7}]]}}\n"
     ]
    }
   ],
   "source": [
    "#Criar um search index\n",
    "!python create_search_index2.py --index-name stf-pdf-index --file-path assets/stfacordo.pdf --content-column content --fields content,page_number --vector-field contentVector\n",
    "\n",
    "#chat\n",
    "!python chat_with_products.py --index-name stf-pdf-index --query \"Quem é o relator do processo?\" --vector-field contentVector --select-fields content,page_number --top 5\n",
    "\n",
    "#opcional, query:\n",
    "!python query_index.py --index-name stf-pdf-index --query \"Quem é o relator do processo?\" --vector-field contentVector --select-fields content,page_number --top 1"
   ]
  },
  {
   "cell_type": "code",
   "execution_count": 13,
   "metadata": {},
   "outputs": [
    {
     "name": "stdout",
     "output_type": "stream",
     "text": [
      "Starting index creation process..."
     ]
    },
    {
     "name": "stderr",
     "output_type": "stream",
     "text": [
      "Traceback (most recent call last):\n",
      "  File \"C:\\Users\\giova\\AppData\\Local\\Packages\\PythonSoftwareFoundation.Python.3.13_qbz5n2kfra8p0\\LocalCache\\local-packages\\Python313\\site-packages\\azure\\search\\documents\\_search_client.py\", line 655, in _index_documents_actions\n",
      "    batch_response = self._client.documents.index(batch=batch, error_map=error_map, **kwargs)\n",
      "  File \"C:\\Users\\giova\\AppData\\Local\\Packages\\PythonSoftwareFoundation.Python.3.13_qbz5n2kfra8p0\\LocalCache\\local-packages\\Python313\\site-packages\\azure\\core\\tracing\\decorator.py\", line 105, in wrapper_use_tracer\n",
      "    return func(*args, **kwargs)\n",
      "  File \"C:\\Users\\giova\\AppData\\Local\\Packages\\PythonSoftwareFoundation.Python.3.13_qbz5n2kfra8p0\\LocalCache\\local-packages\\Python313\\site-packages\\azure\\search\\documents\\_generated\\operations\\_documents_operations.py\", line 1200, in index\n",
      "    map_error(status_code=response.status_code, response=response, error_map=error_map)\n",
      "    ~~~~~~~~~^^^^^^^^^^^^^^^^^^^^^^^^^^^^^^^^^^^^^^^^^^^^^^^^^^^^^^^^^^^^^^^^^^^^^^^^^^\n",
      "  File \"C:\\Users\\giova\\AppData\\Local\\Packages\\PythonSoftwareFoundation.Python.3.13_qbz5n2kfra8p0\\LocalCache\\local-packages\\Python313\\site-packages\\azure\\core\\exceptions.py\", line 163, in map_error\n",
      "    raise error\n",
      "azure.search.documents._search_documents_error.RequestEntityTooLargeError: Operation returned an invalid status 'Request Entity Too Large'\n",
      "Content: The page was not displayed because the request entity is too large.\n",
      "\n",
      "During handling of the above exception, another exception occurred:\n",
      "\n",
      "Traceback (most recent call last):\n",
      "  File \"f:\\woopi\\ragazure\\create_search_index2.py\", line 268, in <module>\n",
      "    create_index_from_file(\n",
      "    ~~~~~~~~~~~~~~~~~~~~~~^\n",
      "        index_name=args.index_name,\n",
      "        ^^^^^^^^^^^^^^^^^^^^^^^^^^^\n",
      "    ...<3 lines>...\n",
      "        vector_field=args.vector_field,\n",
      "        ^^^^^^^^^^^^^^^^^^^^^^^^^^^^^^^\n",
      "    )\n",
      "    ^\n",
      "  File \"f:\\woopi\\ragazure\\create_search_index2.py\", line 233, in create_index_from_file\n",
      "    search_client.upload_documents(docs)\n",
      "    ~~~~~~~~~~~~~~~~~~~~~~~~~~~~~~^^^^^^\n",
      "  File \"C:\\Users\\giova\\AppData\\Local\\Packages\\PythonSoftwareFoundation.Python.3.13_qbz5n2kfra8p0\\LocalCache\\local-packages\\Python313\\site-packages\\azure\\search\\documents\\_search_client.py\", line 548, in upload_documents\n",
      "    results = self.index_documents(batch, **kwargs)\n",
      "  File \"C:\\Users\\giova\\AppData\\Local\\Packages\\PythonSoftwareFoundation.Python.3.13_qbz5n2kfra8p0\\LocalCache\\local-packages\\Python313\\site-packages\\azure\\core\\tracing\\decorator.py\", line 105, in wrapper_use_tracer\n",
      "    return func(*args, **kwargs)\n",
      "  File \"C:\\Users\\giova\\AppData\\Local\\Packages\\PythonSoftwareFoundation.Python.3.13_qbz5n2kfra8p0\\LocalCache\\local-packages\\Python313\\site-packages\\azure\\search\\documents\\_search_client.py\", line 647, in index_documents\n",
      "    return self._index_documents_actions(actions=batch.actions, **kwargs)\n",
      "           ~~~~~~~~~~~~~~~~~~~~~~~~~~~~~^^^^^^^^^^^^^^^^^^^^^^^^^^^^^^^^^\n",
      "  File \"C:\\Users\\giova\\AppData\\Local\\Packages\\PythonSoftwareFoundation.Python.3.13_qbz5n2kfra8p0\\LocalCache\\local-packages\\Python313\\site-packages\\azure\\search\\documents\\_search_client.py\", line 661, in _index_documents_actions\n",
      "    batch_response_first_half = self._index_documents_actions(\n",
      "        actions=actions[:pos], error_map=error_map, **kwargs\n",
      "    )\n",
      "  File \"C:\\Users\\giova\\AppData\\Local\\Packages\\PythonSoftwareFoundation.Python.3.13_qbz5n2kfra8p0\\LocalCache\\local-packages\\Python313\\site-packages\\azure\\search\\documents\\_search_client.py\", line 655, in _index_documents_actions\n",
      "    batch_response = self._client.documents.index(batch=batch, error_map=error_map, **kwargs)\n",
      "TypeError: azure.search.documents._generated.operations._documents_operations.DocumentsOperations.index() got multiple values for keyword argument 'error_map'\n"
     ]
    },
    {
     "name": "stdout",
     "output_type": "stream",
     "text": [
      "\n",
      "Deleted existing index 'bacen_index'\n"
     ]
    }
   ],
   "source": [
    "\n",
    "!python create_search_index2.py --index-name bacen_index \\\n",
    "    --file-path assets/df_bacen.csv \\\n",
    "    --content-column answers \\\n",
    "    --fields questions,answers,categories \\\n",
    "    --vector-field contentVector\n"
   ]
  },
  {
   "cell_type": "code",
   "execution_count": 1,
   "metadata": {},
   "outputs": [
    {
     "name": "stderr",
     "output_type": "stream",
     "text": [
      "Traceback (most recent call last):\n",
      "  File \"d:\\ragazure-20250115T085251Z-001 - Copia\\ragazure\\chat_with_products.py\", line 3, in <module>\n",
      "    from opentelemetry import trace\n",
      "ModuleNotFoundError: No module named 'opentelemetry'\n"
     ]
    }
   ],
   "source": [
    "    \n",
    "!python chat_with_products.py --index-name faq-index \\\n",
    "    --query \"O que são moedas virtuais?\" \\\n",
    "    --vector-field contentVector \\\n",
    "    --select-fields answers \\\n",
    "    --top 20"
   ]
  },
  {
   "cell_type": "code",
   "execution_count": 26,
   "metadata": {},
   "outputs": [
    {
     "name": "stderr",
     "output_type": "stream",
     "text": [
      "2025-01-09 15:09:53,951 [INFO] No environment configuration found.\n",
      "2025-01-09 15:09:53,951 [INFO] ManagedIdentityCredential will use IMDS\n",
      "Traceback (most recent call last):\n",
      "  File \"f:\\woopi\\ragazure\\evaluate.py\", line 127, in <module>\n",
      "    main()\n",
      "    ~~~~^^\n",
      "  File \"f:\\woopi\\ragazure\\evaluate.py\", line 87, in main\n",
      "    \"azure_endpoint\": connection.endpoint_url,\n",
      "                      ^^^^^^^^^^\n",
      "NameError: name 'connection' is not defined. Did you mean: 'ConnectionType'?\n"
     ]
    }
   ],
   "source": [
    "\n",
    "!python evaluate.py --dataset-path assets/chat_eval_data_fixed.jsonl --evaluation-name evaluate_chat_with_products --output-path ./myevalresults.json\n"
   ]
  },
  {
   "cell_type": "code",
   "execution_count": null,
   "metadata": {},
   "outputs": [],
   "source": []
  }
 ],
 "metadata": {
  "kernelspec": {
   "display_name": "Python 3",
   "language": "python",
   "name": "python3"
  },
  "language_info": {
   "codemirror_mode": {
    "name": "ipython",
    "version": 3
   },
   "file_extension": ".py",
   "mimetype": "text/x-python",
   "name": "python",
   "nbconvert_exporter": "python",
   "pygments_lexer": "ipython3",
   "version": "3.11.5"
  },
  "orig_nbformat": 4
 },
 "nbformat": 4,
 "nbformat_minor": 2
}
